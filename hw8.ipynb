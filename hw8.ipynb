{
 "cells": [
  {
   "cell_type": "markdown",
   "metadata": {},
   "source": [
    "# Homework 8\n",
    "Name: David James"
   ]
  },
  {
   "cell_type": "markdown",
   "metadata": {},
   "source": [
    "### Problem 1"
   ]
  },
  {
   "cell_type": "code",
   "execution_count": 1,
   "metadata": {},
   "outputs": [],
   "source": [
    "import numpy as np\n",
    "import matplotlib.pyplot as plt"
   ]
  },
  {
   "cell_type": "code",
   "execution_count": 2,
   "metadata": {},
   "outputs": [],
   "source": [
    "x = np.array([0,0.1,0.2,0.3,0.4,0.5])\n",
    "y = np.array([2,2.20254,2.40715,2.61592,2.83096,3.05448])"
   ]
  },
  {
   "cell_type": "code",
   "execution_count": 3,
   "metadata": {},
   "outputs": [],
   "source": [
    "base1 = lambda x : [1,x]\n",
    "base2 = lambda x : [1,np.exp(x),np.exp(-1*x)]"
   ]
  },
  {
   "cell_type": "code",
   "execution_count": 4,
   "metadata": {},
   "outputs": [],
   "source": [
    "def lstSqVals(x,y,basis):\n",
    "    A = np.array(list(map(basis,x)))\n",
    "    \n",
    "    rows,cols = A.shape\n",
    "    \n",
    "    vals = np.linalg.lstsq(A,y,rcond=None)\n",
    "    c = vals[0]\n",
    "    rms = vals[1]/np.sqrt(rows)\n",
    "    \n",
    "    return c,rms[0]"
   ]
  },
  {
   "cell_type": "code",
   "execution_count": 5,
   "metadata": {},
   "outputs": [],
   "source": [
    "c1 = lstSqVals(x,y,base1)\n",
    "c2 = lstSqVals(x,y,base2)"
   ]
  },
  {
   "cell_type": "markdown",
   "metadata": {},
   "source": [
    "**Part 3**\n"
   ]
  },
  {
   "cell_type": "code",
   "execution_count": 6,
   "metadata": {},
   "outputs": [
    {
     "name": "stdout",
     "output_type": "stream",
     "text": [
      "c1 vector: [1.99233476 2.10469429]\n",
      "c1 RMS: 0.00010782071180219383\n"
     ]
    }
   ],
   "source": [
    "print('c1 vector:',c1[0])\n",
    "print('c1 RMS:',c1[1])"
   ]
  },
  {
   "cell_type": "code",
   "execution_count": 7,
   "metadata": {},
   "outputs": [
    {
     "name": "stdout",
     "output_type": "stream",
     "text": [
      "c2 vector: [ 1.99019055  1.01546662 -1.00563922]\n",
      "c2 RMS: 1.0002950022587577e-09\n"
     ]
    }
   ],
   "source": [
    "print('c2 vector:',c2[0])\n",
    "print('c2 RMS:',c2[1])"
   ]
  },
  {
   "cell_type": "markdown",
   "metadata": {},
   "source": [
    "The RMS for (2) is much smaller than the RMS for (1)"
   ]
  },
  {
   "cell_type": "markdown",
   "metadata": {},
   "source": [
    "### Problem 2(3)"
   ]
  },
  {
   "cell_type": "code",
   "execution_count": 8,
   "metadata": {},
   "outputs": [],
   "source": [
    "A = np.array([[1,-1,4],\n",
    "              [1,4,-2],\n",
    "              [1,4,2],\n",
    "              [1,-1,0]])\n",
    "y = np.array([10,5,9,2])\n",
    "\n",
    "vals = np.linalg.lstsq(A,y,rcond=None)"
   ]
  },
  {
   "cell_type": "code",
   "execution_count": 9,
   "metadata": {},
   "outputs": [
    {
     "name": "stdout",
     "output_type": "stream",
     "text": [
      "c vector: [3.8 0.8 1.5]\n"
     ]
    }
   ],
   "source": [
    "print('c vector:',vals[0])"
   ]
  },
  {
   "cell_type": "markdown",
   "metadata": {},
   "source": [
    "### Problem 3"
   ]
  },
  {
   "cell_type": "code",
   "execution_count": 10,
   "metadata": {},
   "outputs": [],
   "source": [
    "fexact = lambda x : x*np.exp(-1.5*x)\n",
    "m = [10,20,40,80]\n",
    "p = [1,2,3,4,5]\n",
    "a = 0\n",
    "b = 5"
   ]
  },
  {
   "cell_type": "code",
   "execution_count": 11,
   "metadata": {},
   "outputs": [],
   "source": [
    "x = np.array([np.sort(np.random.sample(i)*b) for i in m])\n",
    "t = np.linspace(0,5,400)"
   ]
  },
  {
   "cell_type": "code",
   "execution_count": 12,
   "metadata": {},
   "outputs": [],
   "source": [
    "base = lambda x,p : np.array([x**i for i in range(p+1)]).transpose()"
   ]
  },
  {
   "cell_type": "markdown",
   "metadata": {},
   "source": [
    "**Part 1 and Part 2**"
   ]
  },
  {
   "cell_type": "code",
   "execution_count": 13,
   "metadata": {
    "scrolled": true
   },
   "outputs": [
    {
     "name": "stdout",
     "output_type": "stream",
     "text": [
      "M = 10, P = 1: (1) RES 1.186e-01, (2) RES 7.645e-01\n",
      "M = 10, P = 2: (1) RES 1.519e-02, (2) RES 3.581e-01\n",
      "M = 10, P = 3: (1) RES 6.576e-04, (2) RES 4.683e-01\n",
      "M = 10, P = 4: (1) RES 4.025e-06, (2) RES 7.385e-01\n",
      "M = 10, P = 5: (1) RES 1.601e-06, (2) RES 7.863e-01\n",
      "M = 20, P = 1: (1) RES 2.574e-01, (2) RES 7.755e-01\n",
      "M = 20, P = 2: (1) RES 8.908e-02, (2) RES 3.565e-01\n",
      "M = 20, P = 3: (1) RES 8.131e-02, (2) RES 4.235e-01\n",
      "M = 20, P = 4: (1) RES 2.817e-02, (2) RES 3.121e-01\n",
      "M = 20, P = 5: (1) RES 5.072e-03, (2) RES 2.987e-01\n",
      "M = 40, P = 1: (1) RES 3.417e-01, (2) RES 6.878e-01\n",
      "M = 40, P = 2: (1) RES 3.774e-02, (2) RES 3.501e-01\n",
      "M = 40, P = 3: (1) RES 2.604e-02, (2) RES 3.657e-01\n",
      "M = 40, P = 4: (1) RES 1.575e-02, (2) RES 2.916e-01\n",
      "M = 40, P = 5: (1) RES 4.672e-03, (2) RES 1.755e-01\n",
      "M = 80, P = 1: (1) RES 5.144e-01, (2) RES 6.878e-01\n",
      "M = 80, P = 2: (1) RES 1.200e-01, (2) RES 3.438e-01\n",
      "M = 80, P = 3: (1) RES 1.176e-01, (2) RES 3.410e-01\n",
      "M = 80, P = 4: (1) RES 6.280e-02, (2) RES 2.518e-01\n",
      "M = 80, P = 5: (1) RES 1.502e-02, (2) RES 1.301e-01\n"
     ]
    }
   ],
   "source": [
    "f = fexact(t)\n",
    "\n",
    "for i in range(len(x)):\n",
    "    g = 0\n",
    "    for j in range(5):\n",
    "        y = fexact(x[i])\n",
    "        A = base(x[i],j)\n",
    "        \n",
    "        vals = np.linalg.lstsq(A,y,rcond=None)\n",
    "        c = vals[0]\n",
    "        rms = vals[1]/np.linalg.norm(y)\n",
    "        \n",
    "        p = np.polyval(c[::-1],t)        \n",
    "        \n",
    "        res = np.linalg.norm(f-p)/np.linalg.norm(f)\n",
    "        msg = 'M = {0}, P = {1}: (1) RES {2:1.3e}, (2) RES {3:1.3e}'.format(len(x[i]),j+1,rms[0],res)\n",
    "        print(msg)"
   ]
  },
  {
   "cell_type": "markdown",
   "metadata": {},
   "source": [
    "**Part 3**\n",
    "\n",
    "The smallest relative residuals to the solution seems to be outputted from an $ M = 10 $ with a $ P = 4 $ and $ P = 5 $\n",
    "\n",
    "Where the smallest residual is with a $ P = 4 $ at $ R_4 = 4.025*10^{-6} $, but with $ P = 5 $ following closely behind with a value of $ R_5 = 1.601*10^{-6} $."
   ]
  },
  {
   "cell_type": "markdown",
   "metadata": {},
   "source": [
    "**Part 4**\n",
    "\n",
    "The relative residual of the fit does not seem to be correlated to the relative residual of the solution. The fit values all resonate with a value around $ 10^{-1} $, but the relatve residual to the solution have values fluctuating from $ 10^{-1} $ to $ 10^{-6} $."
   ]
  }
 ],
 "metadata": {
  "kernelspec": {
   "display_name": "Python 3",
   "language": "python",
   "name": "python3"
  },
  "language_info": {
   "codemirror_mode": {
    "name": "ipython",
    "version": 3
   },
   "file_extension": ".py",
   "mimetype": "text/x-python",
   "name": "python",
   "nbconvert_exporter": "python",
   "pygments_lexer": "ipython3",
   "version": "3.7.3"
  }
 },
 "nbformat": 4,
 "nbformat_minor": 2
}
