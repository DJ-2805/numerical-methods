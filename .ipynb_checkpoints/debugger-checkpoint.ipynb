{
 "cells": [
  {
   "cell_type": "code",
   "execution_count": 1,
   "metadata": {},
   "outputs": [],
   "source": [
    "import numpy as np"
   ]
  },
  {
   "cell_type": "code",
   "execution_count": 2,
   "metadata": {},
   "outputs": [],
   "source": [
    "A = [[4,-1,0,-1,0,0],\n",
    "     [-1,4,-1,0,-1,0],\n",
    "     [0,-1,4,0,0,-1],\n",
    "     [-1,0,0,4,-1,0],\n",
    "     [0,-1,0,-1,4,-1],\n",
    "     [0,0,-1,0,-1,4]]\n",
    "A = np.array(A)"
   ]
  },
  {
   "cell_type": "code",
   "execution_count": 13,
   "metadata": {},
   "outputs": [
    {
     "data": {
      "text/plain": [
       "array([[4, 0, 0, 0, 0, 0],\n",
       "       [0, 4, 0, 0, 0, 0],\n",
       "       [0, 0, 4, 0, 0, 0],\n",
       "       [0, 0, 0, 4, 0, 0],\n",
       "       [0, 0, 0, 0, 4, 0],\n",
       "       [0, 0, 0, 0, 0, 4]])"
      ]
     },
     "execution_count": 13,
     "metadata": {},
     "output_type": "execute_result"
    }
   ],
   "source": [
    "U = np.triu(A,1)\n",
    "L = np.tril(A,-1)\n",
    "D = np.diag(np.diag(A))"
   ]
  },
  {
   "cell_type": "code",
   "execution_count": 15,
   "metadata": {},
   "outputs": [],
   "source": [
    "invD = np.linalg.inv(D)\n",
    "\n",
    "Tj = np.matmul(invD,L+U)"
   ]
  },
  {
   "cell_type": "code",
   "execution_count": 17,
   "metadata": {},
   "outputs": [],
   "source": [
    "invDL = np.linalg.inv(D-L)\n",
    "Tg = np.matmul(invDL,U)"
   ]
  },
  {
   "cell_type": "code",
   "execution_count": 18,
   "metadata": {},
   "outputs": [
    {
     "data": {
      "text/plain": [
       "array([[ 0.        , -0.25      ,  0.        , -0.25      ,  0.        ,\n",
       "         0.        ],\n",
       "       [ 0.        ,  0.0625    , -0.25      ,  0.0625    , -0.25      ,\n",
       "         0.        ],\n",
       "       [ 0.        , -0.015625  ,  0.0625    , -0.015625  ,  0.0625    ,\n",
       "        -0.25      ],\n",
       "       [ 0.        ,  0.0625    ,  0.        ,  0.0625    , -0.25      ,\n",
       "         0.        ],\n",
       "       [ 0.        , -0.03125   ,  0.0625    , -0.03125   ,  0.125     ,\n",
       "        -0.25      ],\n",
       "       [ 0.        ,  0.01171875, -0.03125   ,  0.01171875, -0.046875  ,\n",
       "         0.125     ]])"
      ]
     },
     "execution_count": 18,
     "metadata": {},
     "output_type": "execute_result"
    }
   ],
   "source": [
    "Tg"
   ]
  }
 ],
 "metadata": {
  "kernelspec": {
   "display_name": "Python 3",
   "language": "python",
   "name": "python3"
  },
  "language_info": {
   "codemirror_mode": {
    "name": "ipython",
    "version": 3
   },
   "file_extension": ".py",
   "mimetype": "text/x-python",
   "name": "python",
   "nbconvert_exporter": "python",
   "pygments_lexer": "ipython3",
   "version": "3.7.3"
  }
 },
 "nbformat": 4,
 "nbformat_minor": 2
}
