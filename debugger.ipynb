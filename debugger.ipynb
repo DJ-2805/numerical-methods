{
 "cells": [
  {
   "cell_type": "code",
   "execution_count": 6,
   "metadata": {},
   "outputs": [],
   "source": [
    "from numpy import arange,ones,diag,linalg ,exp"
   ]
  },
  {
   "cell_type": "code",
   "execution_count": 59,
   "metadata": {},
   "outputs": [],
   "source": [
    "def solveODE2(f,p,q,ta,ya,tb,yb,h=0,n=0):\n",
    "    if(h == 0 and n != 0):\n",
    "        h = (tb-ta)/n\n",
    "    elif(h != 0 and n == 0):\n",
    "        n = int((tb-ta)/h)\n",
    "        \n",
    "    m = n-1\n",
    "    \n",
    "    s1 = 1/h**2 - p/(2*h)\n",
    "    s2 = q - 2/h**2\n",
    "    s3 = 1/h**2 + p/(2*h)\n",
    "    \n",
    "    x = arange(ta,tb+h,h)\n",
    "        \n",
    "    L = diag(ones(m-1),-1) * s1\n",
    "    D = diag(ones(m))      * s2\n",
    "    U = diag(ones(m-1),1)  * s3\n",
    "    A = L + D + U\n",
    "        \n",
    "    f_b = f(x[1:n])\n",
    "    f_b[0]  -= s1*ya\n",
    "    f_b[-1] -= s3*yb\n",
    "    \n",
    "    y = ones(x.size)\n",
    "    y[0] = ya\n",
    "    y[-1] = yb\n",
    "    y[1:n] = linalg.solve(A,f_b)\n",
    "    \n",
    "    return y,x"
   ]
  },
  {
   "cell_type": "code",
   "execution_count": 3,
   "metadata": {},
   "outputs": [],
   "source": [
    "p = -2\n",
    "q = 1\n",
    "f = lambda x : x*exp(x)-x"
   ]
  },
  {
   "cell_type": "code",
   "execution_count": 12,
   "metadata": {},
   "outputs": [],
   "source": [
    "ta = 0\n",
    "ya = 0\n",
    "\n",
    "tb = 2\n",
    "yb = -4\n",
    "h = 0.2"
   ]
  },
  {
   "cell_type": "code",
   "execution_count": 60,
   "metadata": {},
   "outputs": [
    {
     "name": "stdout",
     "output_type": "stream",
     "text": [
      "n 10\n",
      "m 9\n",
      "x [0.  0.2 0.4 0.6 0.8 1.  1.2 1.4 1.6 1.8 2. ]\n",
      "A (9, 9)\n",
      "[0.2 0.4 0.6 0.8 1.  1.2 1.4 1.6 1.8]\n",
      "f (9,)\n",
      "fb [4.42805516e-02 1.96729879e-01 4.93271280e-01 9.80432743e-01\n",
      " 1.71828183e+00 2.78414031e+00 4.27727995e+00 6.32485188e+00\n",
      " 8.90893654e+01]\n"
     ]
    }
   ],
   "source": [
    "y,x = solveODE2(f,p,q,ta,ya,tb,yb,h=h)"
   ]
  },
  {
   "cell_type": "code",
   "execution_count": 17,
   "metadata": {},
   "outputs": [],
   "source": [
    "import matplotlib.pyplot as plt"
   ]
  },
  {
   "cell_type": "code",
   "execution_count": 29,
   "metadata": {},
   "outputs": [],
   "source": [
    "g = lambda x : 1/6*x**3*exp(x) - 5/3*x*exp(x) + 2*exp(x) - x - 2"
   ]
  },
  {
   "cell_type": "code",
   "execution_count": 61,
   "metadata": {},
   "outputs": [
    {
     "data": {
      "text/plain": [
       "[<matplotlib.lines.Line2D at 0x7f811abadf60>]"
      ]
     },
     "execution_count": 61,
     "metadata": {},
     "output_type": "execute_result"
    },
    {
     "data": {
      "image/png": "[encoded data removed]",
      "text/plain": [
       "<Figure size 432x288 with 1 Axes>"
      ]
     },
     "metadata": {
      "needs_background": "light"
     },
     "output_type": "display_data"
    }
   ],
   "source": [
    "plt.plot(x,y)\n",
    "plt.plot(x,g(x))"
   ]
  }
 ],
 "metadata": {
  "kernelspec": {
   "display_name": "Python 3",
   "language": "python",
   "name": "python3"
  },
  "language_info": {
   "codemirror_mode": {
    "name": "ipython",
    "version": 3
   },
   "file_extension": ".py",
   "mimetype": "text/x-python",
   "name": "python",
   "nbconvert_exporter": "python",
   "pygments_lexer": "ipython3",
   "version": "3.7.3"
  }
 },
 "nbformat": 4,
 "nbformat_minor": 2
}
